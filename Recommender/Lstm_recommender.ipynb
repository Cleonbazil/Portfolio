{
 "cells": [
  {
   "cell_type": "markdown",
   "id": "3b45cfed-1596-4145-b428-e1220e17c104",
   "metadata": {},
   "source": [
    "### Long short term memory (LSTM) Neural Networks"
   ]
  },
  {
   "cell_type": "markdown",
   "id": "e36f5892-8ada-4d17-90de-ad3d07cefe9b",
   "metadata": {},
   "source": [
    "- Cell state : Represents the long term memory, ther are not any weights and/or biases to modify it directly thus avoiding the<br>\n",
    "exploding/vanishing gradient problem.\n",
    "\n",
    "- Hidden state : Represents the shor term memory\n",
    "\n",
    "#### First stage\n",
    "##### Inputs\n",
    "- Previous long term memory =  $L_{t1}$            \n",
    "- Previous short term memormy = $S_{t1}$\n",
    "- First input = $x_1$\n",
    "\n",
    "##### Weights\n",
    "- Long term memory weight = $w_{l1}$\n",
    "- Short term memory weight = $w_{s1}$\n",
    "- Input weight = $w_1$\n",
    "\n",
    "##### Activation function\n",
    "- $Sigmoid$\n",
    "\n",
    "$z_{\\_first} = (x_1\\,*\\,w_1) + (S_{t1}\\,*\\,w_{s1}) + b_1$<br>\n",
    "$y_{\\_first} = \\sigma(z_{\\_first})$<br>\n",
    "Percentage of the previous Long-term memory preserved = $y_1 * L_{t1}$\n",
    "\n",
    "Since the activation function used is the sigmoid function which outputs a number between 0-1, in this first stage what it is being determined is the<br>\n",
    "percentage of the Long-term memory that will be remembered, this first stage of the lstm is also known as the $Forget gate$.\n"
   ]
  },
  {
   "cell_type": "markdown",
   "id": "04792455-84d7-4fc8-ae13-d5e7b550d8c4",
   "metadata": {},
   "source": [
    "#### Second Stage\n",
    "The second stage consists of three parts: \n",
    "\n",
    "- First part: the short-term memory is combined with the input to create a potential long term memory.\n",
    "  ##### Activation function\n",
    "- $Tan-h$<br>\n",
    "\n",
    "$z_{2-1} = (x_1\\,*\\,w_{2-1}) + (S_{t1}\\,*\\,w_{s2-1}) + b_{2-1}$<br>\n",
    "$y_{2-1} = \\sigma(z_{2-1})$<br>\n",
    "\n",
    "\n",
    "\n",
    "- Second part: the input is used to comupte the percentage of the potential long term memory is preserved.\n",
    "##### Activation function\n",
    "- $Sigmoid$\n",
    "\n",
    "\n",
    "$z_{2-2} = (x_1\\,*\\,w_{2-2}) + (S_{t1}\\,*\\,w_{s2-2}) + b_{2-2}$<br>\n",
    "$y_{2-2} = \\sigma(z_{2-2})$<br>\n",
    "\n",
    "\n",
    "- Third part: In this step the potential long term memory is multiplied by the percentage and subsequently added to the long term memory generating a new long term memory.<br>\n",
    "\n",
    "$L_{t2} = (y_{2-1} *  y_{2-2}) +  (y_1 * L_{t1})$\n",
    "\n",
    "The entire process above which encompasses the firs and second state is denominated the $$Input\\:Gate$$"
   ]
  },
  {
   "cell_type": "markdown",
   "id": "538e5617-0495-45c9-b0bb-aba0bb06a909",
   "metadata": {},
   "source": [
    "#### Third stage\n",
    "\n",
    "In this stage we take the new long term memory and pass it through a tan-h function to generate a short term memory, aftewards we calculate what percentage of it will be preserved.\n",
    "\n",
    "- Part 1 generating the new short term memory\n",
    " ##### Activation function\n",
    "- $Tan-h$<br>\n",
    "\n",
    "$z_{3-1} = L_{t2}$<br>\n",
    "$y_{3-1} = \\sigma(z_{3-1})$<br>\n",
    "\n",
    "- Part 2 determining percentage preserved<br>\n",
    "$z_{3-2} = (x_1\\,*\\,w_{3-2}) + (S_{t1}\\,*\\,w_{s3-2}) + b_{2-2}$<br>\n",
    "$y_{3-2} = \\sigma(z_{3-2})$<br>\n",
    "\n",
    "- Part 3 Generating new short term memory<br>\n",
    "\n",
    "$S_{t2} = y_{3-1} * \\:y_{3-2}$\n",
    "\n",
    "The third stage generates the output of the lstm thus this step is called the $Output\\: Gate$"
   ]
  },
  {
   "cell_type": "code",
   "execution_count": null,
   "id": "c2d9242a-e018-4063-b486-b1b201c21099",
   "metadata": {},
   "outputs": [],
   "source": []
  },
  {
   "cell_type": "markdown",
   "id": "0c78d34b-ab6d-4e90-82ce-2b9cfc388362",
   "metadata": {},
   "source": [
    "### Dependencies"
   ]
  },
  {
   "cell_type": "code",
   "execution_count": 2,
   "id": "5fcd77a1-598b-4584-ad2d-623795989cfe",
   "metadata": {},
   "outputs": [
    {
     "name": "stdout",
     "output_type": "stream",
     "text": [
      "WARNING:tensorflow:From C:\\Users\\Chris\\anaconda3\\Lib\\site-packages\\keras\\src\\losses.py:2976: The name tf.losses.sparse_softmax_cross_entropy is deprecated. Please use tf.compat.v1.losses.sparse_softmax_cross_entropy instead.\n",
      "\n"
     ]
    }
   ],
   "source": [
    "import tensorflow\n",
    "from tensorflow.keras.datasets import imdb\n",
    "from tensorflow.keras.preprocessing.sequence import pad_sequences\n",
    "from tensorflow.keras.models import Sequential\n",
    "from tensorflow.keras.layers import Dense, Dropout, Embedding, SpatialDropout1D\n",
    "\n",
    "import os\n",
    "import string\n",
    "import numpy as np\n",
    "import scipy as sc\n",
    "import pandas as pd\n",
    "import matplotlib.pyplot as plt\n",
    "import seaborn as sns\n",
    "\n",
    "import tensorflow as tf\n",
    "from tensorflow.keras.datasets import imdb # new! \n",
    "from tensorflow.keras.preprocessing.sequence import pad_sequences #new!\n",
    "from tensorflow.keras.models import Sequential\n",
    "from tensorflow.keras.layers import Dense, Flatten, Dropout,Activation,BatchNormalization\n",
    "from tensorflow.keras.layers import SpatialDropout1D\n",
    "from tensorflow.keras.layers import Embedding # new!\n",
    "from tensorflow.keras.callbacks import ModelCheckpoint # new! \n",
    "\n",
    "from tensorflow.keras.layers import SimpleRNN # new! \n",
    "from tensorflow.keras.layers import LSTM # new! \n",
    "\n",
    "from sklearn.metrics import roc_auc_score, roc_curve, classification_report\n",
    "from sklearn.metrics import confusion_matrix,ConfusionMatrixDisplay "
   ]
  },
  {
   "cell_type": "markdown",
   "id": "ef7ba551-a84a-4bcf-9744-8cf49cb63cb6",
   "metadata": {},
   "source": [
    "#### Loading Data\n",
    "For a given data set: \n",
    "\n",
    "* The TensorFlow Keras module's text utilities [here](https://www.tensorflow.org/api_docs/python/tf/keras/preprocessing/text) quickly preprocess natural language and convert it into an index\n",
    "* The `Tokenizer` class covered therein may do everything you need in a single line of code:\n",
    "    * tokenize into words or characters\n",
    "    * `num_words`: maximum unique tokens\n",
    "    * filter out punctuation\n",
    "    * lower case\n",
    "    * convert words to an integer index\n",
    "* Other natural language preprocessing steps you may want to consider for your particular dataset and application are covered in the [*Natural Language Preprocessing* notebook](https://github.com/jonkrohn/DLTFpT/blob/master/notebooks/natural_language_preprocessing.ipynb), including: \n",
    "    * removing stop words\n",
    "    * either stemming or lemmatization\n",
    "    * colocating n-grams, such as bigrams and trigrams"
   ]
  },
  {
   "cell_type": "code",
   "execution_count": 5,
   "id": "f55a6caf-f6a7-4b5d-bb08-4ee817e4bf4a",
   "metadata": {},
   "outputs": [],
   "source": [
    "#As per Maas et al. (2011)\n",
    "\n",
    "#The number of unique words included in the word vector space are set in this case to be the 5000 most occuring words that are not the 50 most occuring\n",
    "#this may not be optimal and can be adjusted\n",
    "n_unique_words = 10000\n",
    "\n",
    "#The number of words to skip or stop words the 50 most occurring words in the corpus,this may not be optimal and can be adjusted\n",
    "n_words_to_skip = 100\n",
    "\n",
    "(X_train, y_train), (X_valid, y_valid) = imdb.load_data(num_words=n_unique_words, \n",
    "                                                        skip_top=n_words_to_skip) "
   ]
  },
  {
   "cell_type": "markdown",
   "id": "4b9c40d9-eed3-464f-a2cb-43f92875fc67",
   "metadata": {},
   "source": [
    "#### Mapping word to indices"
   ]
  },
  {
   "cell_type": "code",
   "execution_count": 7,
   "id": "5d48ccf3-0dd1-4f42-aa49-63c9e36dadab",
   "metadata": {},
   "outputs": [],
   "source": [
    "word_index = tf.keras.datasets.imdb.get_word_index()\n",
    "word_index = {key:(value+3) for key,value in word_index.items()}\n",
    "word_index['PAD'] = 0\n",
    "word_index['START'] = 1\n",
    "word_index['UNK'] = 2"
   ]
  },
  {
   "cell_type": "markdown",
   "id": "e5e2b4b1-e234-485e-8b89-4d0e79fb5358",
   "metadata": {},
   "source": [
    "#### Flipping index values"
   ]
  },
  {
   "cell_type": "code",
   "execution_count": 9,
   "id": "91192b07-ae77-4496-af48-20e7dada0f93",
   "metadata": {},
   "outputs": [],
   "source": [
    "index_word = {value:key for key,value in word_index.items()}"
   ]
  },
  {
   "cell_type": "markdown",
   "id": "c4538e02-dc6d-4626-bd3d-626b4f66e4e9",
   "metadata": {},
   "source": [
    "#### Padding "
   ]
  },
  {
   "cell_type": "code",
   "execution_count": 13,
   "id": "42e1dea7-9d35-457e-ba3e-a081680521b5",
   "metadata": {},
   "outputs": [],
   "source": [
    "#When using tensorflow keras it is necessary to establish the length of the reviews if the review is larger than the preset number it is truncated to the\n",
    "#the preset number of words, if it is smaller it is padded to reach the preset number of words\n",
    "\n",
    "#The max_review_length = 100 was increased to 400 because in this example we are using Convolutional Neural Networks which allow the model to handel a \n",
    "#larger review length mainly due to max pooling layer.\n",
    "max_review_length = 100 # length of review\n",
    "\n",
    "#Padding review at the beginning \n",
    "pad_type = 'pre' \n",
    "#Truncating review at the beginning\n",
    "trunc_type = 'pre'\n",
    "\n",
    "padding_value = 0 # value used for padding\n",
    "\n",
    "X_train = pad_sequences(\n",
    "                        X_train,\n",
    "                        maxlen = max_review_length,\n",
    "                        padding = pad_type,\n",
    "                        truncating = trunc_type,\n",
    "                        value = padding_value\n",
    "                       )\n",
    "\n",
    "X_valid = pad_sequences(\n",
    "                        X_valid,\n",
    "                        maxlen = max_review_length,\n",
    "                        padding = pad_type,\n",
    "                        truncating = trunc_type,\n",
    "                        value = padding_value\n",
    "                       )"
   ]
  },
  {
   "cell_type": "markdown",
   "id": "84687ee6-7182-4de8-8aa0-188a9ae106dc",
   "metadata": {},
   "source": [
    "#### Model"
   ]
  },
  {
   "cell_type": "markdown",
   "id": "b93da7ea-e689-474d-8f22-45389e8340bf",
   "metadata": {},
   "source": [
    "#### Hyper parameters"
   ]
  },
  {
   "cell_type": "code",
   "execution_count": 15,
   "id": "b4e62393-3e28-4fb5-b8f8-840994d204f2",
   "metadata": {},
   "outputs": [],
   "source": [
    "#Embedding layer\n",
    "#The number of dimensions of the work vector space\n",
    "number_of_dimensions = 64\n",
    "## Dropout rate for embedding layer\n",
    "embedding_dropout_rate = 0.2\n",
    "############################################################\n",
    "#Denselayer\n",
    "#Number of neurons in the Dense layers\n",
    "dense_neurons= 256\n",
    "#Drop out rate for dense layers \n",
    "dense_dropout_rate = 0.2\n",
    "##############################################################\n",
    "#RNN layer\n",
    "#Number of neurons in the Dense layers\n",
    "rnn_neurons= 256\n",
    "#Drop out rate for dense layers \n",
    "rnn_dropout_rate = 0.2\n",
    "#########################################\n",
    "#LSTM layer\n",
    "#Number of neurons in the Dense layers\n",
    "lstm_neurons= 256\n",
    "#Drop out rate for dense layers \n",
    "lstm_dropout_rate = 0.2\n",
    "#########################################\n",
    "\n",
    "\n",
    "#Activation fucntion\n",
    "activation_function = 'relu'\n",
    "\n",
    "############################################\n",
    "#Convolutional layer\n",
    "number_conv_filters = 256\n",
    "#kernel window size is 3 since we are looking for trigrams\n",
    "kernel_conv = 3\n",
    "\n",
    "#Output activation function\n",
    "activation_function_output='sigmoid'\n",
    "\n",
    "\n"
   ]
  },
  {
   "cell_type": "markdown",
   "id": "93e97817-e0b7-44ec-b84a-6fb06b741979",
   "metadata": {},
   "source": [
    "#### Architechture"
   ]
  },
  {
   "cell_type": "code",
   "execution_count": 18,
   "id": "df7ae202-539f-49bb-9d0b-3612bb07ec15",
   "metadata": {},
   "outputs": [
    {
     "name": "stdout",
     "output_type": "stream",
     "text": [
      "WARNING:tensorflow:From C:\\Users\\Chris\\anaconda3\\Lib\\site-packages\\keras\\src\\backend.py:873: The name tf.get_default_graph is deprecated. Please use tf.compat.v1.get_default_graph instead.\n",
      "\n",
      "Model: \"sequential\"\n",
      "_________________________________________________________________\n",
      " Layer (type)                Output Shape              Param #   \n",
      "=================================================================\n",
      " embedding (Embedding)       (None, 100, 64)           640000    \n",
      "                                                                 \n",
      " spatial_dropout1d (Spatial  (None, 100, 64)           0         \n",
      " Dropout1D)                                                      \n",
      "                                                                 \n",
      " lstm (LSTM)                 (None, 256)               328704    \n",
      "                                                                 \n",
      " dense (Dense)               (None, 1)                 257       \n",
      "                                                                 \n",
      "=================================================================\n",
      "Total params: 968961 (3.70 MB)\n",
      "Trainable params: 968961 (3.70 MB)\n",
      "Non-trainable params: 0 (0.00 Byte)\n",
      "_________________________________________________________________\n"
     ]
    }
   ],
   "source": [
    "model  = Sequential()\n",
    "\n",
    "## Input layer and firs hidden layer\n",
    "### Embedding layer\n",
    "##Creating the word vector space\n",
    "model.add(\n",
    "          Embedding(\n",
    "                     n_unique_words,\n",
    "                    number_of_dimensions,\n",
    "                    input_length = max_review_length #input layer\n",
    "                   )\n",
    "          )\n",
    "##Embedding Dropout layer\n",
    "model.add(SpatialDropout1D(embedding_dropout_rate))\n",
    "##################################################################################################################\n",
    "###Second hidden layer\n",
    "model.add(\n",
    "          LSTM(\n",
    "                    lstm_neurons,\n",
    "                    dropout = lstm_dropout_rate\n",
    "                   )\n",
    "         )\n",
    "#####################################################################################################################\n",
    "##Output\n",
    "model.add(\n",
    "          Dense(\n",
    "                1,\n",
    "                activation = activation_function_output\n",
    "              )\n",
    "        )\n",
    "\n",
    "#####################################################################################################################\n",
    "model.summary()\n",
    "\n"
   ]
  },
  {
   "cell_type": "markdown",
   "id": "186eabf5-c9d1-49b9-86e9-00aa3290ed97",
   "metadata": {},
   "source": [
    "#### Compiling Model"
   ]
  },
  {
   "cell_type": "code",
   "execution_count": 21,
   "id": "2eeeeacf-3bfe-41bc-9cf1-fd1b5bcac523",
   "metadata": {},
   "outputs": [
    {
     "name": "stdout",
     "output_type": "stream",
     "text": [
      "WARNING:tensorflow:From C:\\Users\\Chris\\anaconda3\\Lib\\site-packages\\keras\\src\\optimizers\\__init__.py:309: The name tf.train.Optimizer is deprecated. Please use tf.compat.v1.train.Optimizer instead.\n",
      "\n"
     ]
    }
   ],
   "source": [
    "loss_function = 'binary_crossentropy'\n",
    "optimizer = 'nadam'\n",
    "metrics = ['accuracy']\n",
    "\n",
    "model.compile(\n",
    "               loss = loss_function,\n",
    "               optimizer = optimizer,\n",
    "               metrics = metrics\n",
    "             )"
   ]
  },
  {
   "cell_type": "markdown",
   "id": "e7d544ac-c654-4c9e-ba27-ab55214e6f68",
   "metadata": {},
   "source": [
    "#### Saving weights"
   ]
  },
  {
   "cell_type": "code",
   "execution_count": 23,
   "id": "3eedc4ef-9dcf-4486-b759-f6eed1802680",
   "metadata": {},
   "outputs": [],
   "source": [
    "output_dir = 'model_output/lstm'\n",
    "modelcheckpoint = ModelCheckpoint(filepath = output_dir+\"/weights.{epoch:02d}.hdf5\")\n",
    "if not os.path.exists(output_dir):\n",
    "    os.makedirs(output_dir)"
   ]
  },
  {
   "cell_type": "markdown",
   "id": "fd2e8cc4-0ed0-4a36-8446-bf6467e45ae9",
   "metadata": {},
   "source": [
    "#### Training "
   ]
  },
  {
   "cell_type": "code",
   "execution_count": 26,
   "id": "e8ca2255-2923-440b-8641-96f4338494d1",
   "metadata": {},
   "outputs": [
    {
     "name": "stdout",
     "output_type": "stream",
     "text": [
      "Epoch 1/4\n",
      "WARNING:tensorflow:From C:\\Users\\Chris\\anaconda3\\Lib\\site-packages\\keras\\src\\utils\\tf_utils.py:492: The name tf.ragged.RaggedTensorValue is deprecated. Please use tf.compat.v1.ragged.RaggedTensorValue instead.\n",
      "\n",
      "WARNING:tensorflow:From C:\\Users\\Chris\\anaconda3\\Lib\\site-packages\\keras\\src\\engine\\base_layer_utils.py:384: The name tf.executing_eagerly_outside_functions is deprecated. Please use tf.compat.v1.executing_eagerly_outside_functions instead.\n",
      "\n",
      "196/196 [==============================] - 222s 1s/step - loss: 0.5940 - accuracy: 0.6678 - val_loss: 0.4063 - val_accuracy: 0.8224\n",
      "Epoch 2/4\n"
     ]
    },
    {
     "name": "stderr",
     "output_type": "stream",
     "text": [
      "C:\\Users\\Chris\\anaconda3\\Lib\\site-packages\\keras\\src\\engine\\training.py:3103: UserWarning: You are saving your model as an HDF5 file via `model.save()`. This file format is considered legacy. We recommend using instead the native Keras format, e.g. `model.save('my_model.keras')`.\n",
      "  saving_api.save_model(\n"
     ]
    },
    {
     "name": "stdout",
     "output_type": "stream",
     "text": [
      "196/196 [==============================] - 149s 760ms/step - loss: 0.3277 - accuracy: 0.8594 - val_loss: 0.3621 - val_accuracy: 0.8416\n",
      "Epoch 3/4\n",
      "196/196 [==============================] - 145s 743ms/step - loss: 0.2548 - accuracy: 0.8980 - val_loss: 0.3811 - val_accuracy: 0.8321\n",
      "Epoch 4/4\n",
      "196/196 [==============================] - 139s 712ms/step - loss: 0.2158 - accuracy: 0.9154 - val_loss: 0.4064 - val_accuracy: 0.8198\n"
     ]
    },
    {
     "data": {
      "text/plain": [
       "<keras.src.callbacks.History at 0x2763fa6a610>"
      ]
     },
     "execution_count": 26,
     "metadata": {},
     "output_type": "execute_result"
    }
   ],
   "source": [
    "EPOCHS = 4\n",
    "BATCH_SIZE = 128\n",
    "\n",
    "model.fit(\n",
    "          X_train,y_train,\n",
    "          batch_size = BATCH_SIZE,\n",
    "          epochs = EPOCHS,\n",
    "          validation_data = (X_valid,y_valid),\n",
    "          callbacks = [modelcheckpoint]\n",
    "          )"
   ]
  },
  {
   "cell_type": "markdown",
   "id": "c2de49ad-ca1e-4e6f-8822-12bf5347d6c9",
   "metadata": {},
   "source": [
    "#### Loading Weights"
   ]
  },
  {
   "cell_type": "code",
   "execution_count": 28,
   "id": "740a18a5-e977-4a2d-820e-16b498ae9783",
   "metadata": {},
   "outputs": [],
   "source": [
    "model.load_weights(output_dir+\"/weights.02.hdf5\")"
   ]
  },
  {
   "cell_type": "markdown",
   "id": "be44f8f1-e95b-44af-98e8-72968d688699",
   "metadata": {},
   "source": [
    "#### Model Evaluation"
   ]
  },
  {
   "cell_type": "code",
   "execution_count": 31,
   "id": "6f3d57d6-494a-47c6-a863-c380f9720e0e",
   "metadata": {},
   "outputs": [
    {
     "name": "stdout",
     "output_type": "stream",
     "text": [
      "782/782 [==============================] - 61s 76ms/step\n"
     ]
    },
    {
     "data": {
      "image/png": "[encoded data removed]",
      "text/plain": [
       "<Figure size 640x480 with 1 Axes>"
      ]
     },
     "metadata": {},
     "output_type": "display_data"
    }
   ],
   "source": [
    "y_hat = model.predict(X_valid)\n",
    "plt.hist(y_hat)\n",
    "_ = plt.axvline(x=0.5, color='orange')"
   ]
  },
  {
   "cell_type": "code",
   "execution_count": 32,
   "id": "f489fabe-4fca-4f15-b67e-84fc9f2cfe48",
   "metadata": {},
   "outputs": [
    {
     "data": {
      "text/plain": [
       "'92.09'"
      ]
     },
     "execution_count": 32,
     "metadata": {},
     "output_type": "execute_result"
    }
   ],
   "source": [
    "\"{:0.2f}\".format(roc_auc_score(y_valid, y_hat)*100.0)"
   ]
  },
  {
   "cell_type": "code",
   "execution_count": null,
   "id": "9133b10b-1d47-4ae7-a000-e1024221e47c",
   "metadata": {},
   "outputs": [],
   "source": []
  }
 ],
 "metadata": {
  "kernelspec": {
   "display_name": "Python 3 (ipykernel)",
   "language": "python",
   "name": "python3"
  },
  "language_info": {
   "codemirror_mode": {
    "name": "ipython",
    "version": 3
   },
   "file_extension": ".py",
   "mimetype": "text/x-python",
   "name": "python",
   "nbconvert_exporter": "python",
   "pygments_lexer": "ipython3",
   "version": "3.11.7"
  }
 },
 "nbformat": 4,
 "nbformat_minor": 5
}
